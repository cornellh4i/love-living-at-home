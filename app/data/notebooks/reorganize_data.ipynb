{
 "cells": [
  {
   "cell_type": "code",
   "execution_count": 2,
   "metadata": {},
   "outputs": [],
   "source": [
    "import pandas as pd\n",
    "import math"
   ]
  },
  {
   "cell_type": "code",
   "execution_count": 95,
   "metadata": {},
   "outputs": [],
   "source": [
    "local_resources_df = pd.read_csv('../out/archive/local_resources.csv')"
   ]
  },
  {
   "cell_type": "code",
   "execution_count": 96,
   "metadata": {},
   "outputs": [
    {
     "data": {
      "text/html": [
       "<div>\n",
       "<style scoped>\n",
       "    .dataframe tbody tr th:only-of-type {\n",
       "        vertical-align: middle;\n",
       "    }\n",
       "\n",
       "    .dataframe tbody tr th {\n",
       "        vertical-align: top;\n",
       "    }\n",
       "\n",
       "    .dataframe thead th {\n",
       "        text-align: right;\n",
       "    }\n",
       "</style>\n",
       "<table border=\"1\" class=\"dataframe\">\n",
       "  <thead>\n",
       "    <tr style=\"text-align: right;\">\n",
       "      <th></th>\n",
       "      <th>Unnamed: 0</th>\n",
       "      <th>Contact First Name</th>\n",
       "      <th>Contact Last Name</th>\n",
       "      <th>Company</th>\n",
       "      <th>Primary Phone Number</th>\n",
       "      <th>Secondary Phone Number</th>\n",
       "      <th>Emergency Contact Phone Number</th>\n",
       "      <th>Email</th>\n",
       "      <th>Preferred Contact Method</th>\n",
       "      <th>Website</th>\n",
       "      <th>Notes</th>\n",
       "      <th>Address ID</th>\n",
       "    </tr>\n",
       "  </thead>\n",
       "  <tbody>\n",
       "    <tr>\n",
       "      <th>0</th>\n",
       "      <td>0</td>\n",
       "      <td>NaN</td>\n",
       "      <td>NaN</td>\n",
       "      <td>Ace Security</td>\n",
       "      <td>401.0</td>\n",
       "      <td>NaN</td>\n",
       "      <td>NaN</td>\n",
       "      <td>NaN</td>\n",
       "      <td>Phone</td>\n",
       "      <td>NaN</td>\n",
       "      <td>NaN</td>\n",
       "      <td>197</td>\n",
       "    </tr>\n",
       "    <tr>\n",
       "      <th>1</th>\n",
       "      <td>1</td>\n",
       "      <td>NaN</td>\n",
       "      <td>NaN</td>\n",
       "      <td>ACME Pest Control</td>\n",
       "      <td>402.0</td>\n",
       "      <td>NaN</td>\n",
       "      <td>NaN</td>\n",
       "      <td>NaN</td>\n",
       "      <td>Phone</td>\n",
       "      <td>NaN</td>\n",
       "      <td>NaN</td>\n",
       "      <td>198</td>\n",
       "    </tr>\n",
       "    <tr>\n",
       "      <th>2</th>\n",
       "      <td>2</td>\n",
       "      <td>NaN</td>\n",
       "      <td>NaN</td>\n",
       "      <td>Bailey Construction</td>\n",
       "      <td>403.0</td>\n",
       "      <td>NaN</td>\n",
       "      <td>NaN</td>\n",
       "      <td>NaN</td>\n",
       "      <td>Phone</td>\n",
       "      <td>www.baileyconstruction.vpweb.com</td>\n",
       "      <td>NaN</td>\n",
       "      <td>199</td>\n",
       "    </tr>\n",
       "    <tr>\n",
       "      <th>3</th>\n",
       "      <td>3</td>\n",
       "      <td>NaN</td>\n",
       "      <td>NaN</td>\n",
       "      <td>Bell's Auto Service</td>\n",
       "      <td>404.0</td>\n",
       "      <td>NaN</td>\n",
       "      <td>NaN</td>\n",
       "      <td>NaN</td>\n",
       "      <td>Phone</td>\n",
       "      <td>www.bellsauto.com</td>\n",
       "      <td>NaN</td>\n",
       "      <td>200</td>\n",
       "    </tr>\n",
       "    <tr>\n",
       "      <th>4</th>\n",
       "      <td>4</td>\n",
       "      <td>NaN</td>\n",
       "      <td>NaN</td>\n",
       "      <td>Bumblebee Painters</td>\n",
       "      <td>405.0</td>\n",
       "      <td>NaN</td>\n",
       "      <td>NaN</td>\n",
       "      <td>info@bumblebeepainters.com</td>\n",
       "      <td>Email</td>\n",
       "      <td>www.bumblebeepainters.com</td>\n",
       "      <td>NaN</td>\n",
       "      <td>201</td>\n",
       "    </tr>\n",
       "  </tbody>\n",
       "</table>\n",
       "</div>"
      ],
      "text/plain": [
       "   Unnamed: 0 Contact First Name Contact Last Name              Company  \\\n",
       "0           0                NaN               NaN         Ace Security   \n",
       "1           1                NaN               NaN    ACME Pest Control   \n",
       "2           2                NaN               NaN  Bailey Construction   \n",
       "3           3                NaN               NaN  Bell's Auto Service   \n",
       "4           4                NaN               NaN   Bumblebee Painters   \n",
       "\n",
       "   Primary Phone Number  Secondary Phone Number  \\\n",
       "0                 401.0                     NaN   \n",
       "1                 402.0                     NaN   \n",
       "2                 403.0                     NaN   \n",
       "3                 404.0                     NaN   \n",
       "4                 405.0                     NaN   \n",
       "\n",
       "   Emergency Contact Phone Number                       Email  \\\n",
       "0                             NaN                         NaN   \n",
       "1                             NaN                         NaN   \n",
       "2                             NaN                         NaN   \n",
       "3                             NaN                         NaN   \n",
       "4                             NaN  info@bumblebeepainters.com   \n",
       "\n",
       "  Preferred Contact Method                           Website Notes  Address ID  \n",
       "0                    Phone                               NaN   NaN         197  \n",
       "1                    Phone                               NaN   NaN         198  \n",
       "2                    Phone  www.baileyconstruction.vpweb.com   NaN         199  \n",
       "3                    Phone                 www.bellsauto.com   NaN         200  \n",
       "4                    Email         www.bumblebeepainters.com   NaN         201  "
      ]
     },
     "execution_count": 96,
     "metadata": {},
     "output_type": "execute_result"
    }
   ],
   "source": [
    "local_resources_df.head()"
   ]
  },
  {
   "cell_type": "code",
   "execution_count": 97,
   "metadata": {},
   "outputs": [
    {
     "data": {
      "text/html": [
       "<div>\n",
       "<style scoped>\n",
       "    .dataframe tbody tr th:only-of-type {\n",
       "        vertical-align: middle;\n",
       "    }\n",
       "\n",
       "    .dataframe tbody tr th {\n",
       "        vertical-align: top;\n",
       "    }\n",
       "\n",
       "    .dataframe thead th {\n",
       "        text-align: right;\n",
       "    }\n",
       "</style>\n",
       "<table border=\"1\" class=\"dataframe\">\n",
       "  <thead>\n",
       "    <tr style=\"text-align: right;\">\n",
       "      <th></th>\n",
       "      <th>ID</th>\n",
       "      <th>Contact First Name</th>\n",
       "      <th>Contact Last Name</th>\n",
       "      <th>Company</th>\n",
       "      <th>Primary Phone Number</th>\n",
       "      <th>Secondary Phone Number</th>\n",
       "      <th>Emergency Contact Phone Number</th>\n",
       "      <th>Email</th>\n",
       "      <th>Preferred Contact Method</th>\n",
       "      <th>Website</th>\n",
       "      <th>Notes</th>\n",
       "      <th>Address ID</th>\n",
       "    </tr>\n",
       "  </thead>\n",
       "  <tbody>\n",
       "    <tr>\n",
       "      <th>0</th>\n",
       "      <td>0</td>\n",
       "      <td>NaN</td>\n",
       "      <td>NaN</td>\n",
       "      <td>Ace Security</td>\n",
       "      <td>401.0</td>\n",
       "      <td>NaN</td>\n",
       "      <td>NaN</td>\n",
       "      <td>NaN</td>\n",
       "      <td>Phone</td>\n",
       "      <td>NaN</td>\n",
       "      <td>NaN</td>\n",
       "      <td>197</td>\n",
       "    </tr>\n",
       "    <tr>\n",
       "      <th>1</th>\n",
       "      <td>1</td>\n",
       "      <td>NaN</td>\n",
       "      <td>NaN</td>\n",
       "      <td>ACME Pest Control</td>\n",
       "      <td>402.0</td>\n",
       "      <td>NaN</td>\n",
       "      <td>NaN</td>\n",
       "      <td>NaN</td>\n",
       "      <td>Phone</td>\n",
       "      <td>NaN</td>\n",
       "      <td>NaN</td>\n",
       "      <td>198</td>\n",
       "    </tr>\n",
       "    <tr>\n",
       "      <th>2</th>\n",
       "      <td>2</td>\n",
       "      <td>NaN</td>\n",
       "      <td>NaN</td>\n",
       "      <td>Bailey Construction</td>\n",
       "      <td>403.0</td>\n",
       "      <td>NaN</td>\n",
       "      <td>NaN</td>\n",
       "      <td>NaN</td>\n",
       "      <td>Phone</td>\n",
       "      <td>www.baileyconstruction.vpweb.com</td>\n",
       "      <td>NaN</td>\n",
       "      <td>199</td>\n",
       "    </tr>\n",
       "    <tr>\n",
       "      <th>3</th>\n",
       "      <td>3</td>\n",
       "      <td>NaN</td>\n",
       "      <td>NaN</td>\n",
       "      <td>Bell's Auto Service</td>\n",
       "      <td>404.0</td>\n",
       "      <td>NaN</td>\n",
       "      <td>NaN</td>\n",
       "      <td>NaN</td>\n",
       "      <td>Phone</td>\n",
       "      <td>www.bellsauto.com</td>\n",
       "      <td>NaN</td>\n",
       "      <td>200</td>\n",
       "    </tr>\n",
       "    <tr>\n",
       "      <th>4</th>\n",
       "      <td>4</td>\n",
       "      <td>NaN</td>\n",
       "      <td>NaN</td>\n",
       "      <td>Bumblebee Painters</td>\n",
       "      <td>405.0</td>\n",
       "      <td>NaN</td>\n",
       "      <td>NaN</td>\n",
       "      <td>info@bumblebeepainters.com</td>\n",
       "      <td>Email</td>\n",
       "      <td>www.bumblebeepainters.com</td>\n",
       "      <td>NaN</td>\n",
       "      <td>201</td>\n",
       "    </tr>\n",
       "  </tbody>\n",
       "</table>\n",
       "</div>"
      ],
      "text/plain": [
       "   ID Contact First Name Contact Last Name              Company  \\\n",
       "0   0                NaN               NaN         Ace Security   \n",
       "1   1                NaN               NaN    ACME Pest Control   \n",
       "2   2                NaN               NaN  Bailey Construction   \n",
       "3   3                NaN               NaN  Bell's Auto Service   \n",
       "4   4                NaN               NaN   Bumblebee Painters   \n",
       "\n",
       "   Primary Phone Number  Secondary Phone Number  \\\n",
       "0                 401.0                     NaN   \n",
       "1                 402.0                     NaN   \n",
       "2                 403.0                     NaN   \n",
       "3                 404.0                     NaN   \n",
       "4                 405.0                     NaN   \n",
       "\n",
       "   Emergency Contact Phone Number                       Email  \\\n",
       "0                             NaN                         NaN   \n",
       "1                             NaN                         NaN   \n",
       "2                             NaN                         NaN   \n",
       "3                             NaN                         NaN   \n",
       "4                             NaN  info@bumblebeepainters.com   \n",
       "\n",
       "  Preferred Contact Method                           Website Notes  Address ID  \n",
       "0                    Phone                               NaN   NaN         197  \n",
       "1                    Phone                               NaN   NaN         198  \n",
       "2                    Phone  www.baileyconstruction.vpweb.com   NaN         199  \n",
       "3                    Phone                 www.bellsauto.com   NaN         200  \n",
       "4                    Email         www.bumblebeepainters.com   NaN         201  "
      ]
     },
     "execution_count": 97,
     "metadata": {},
     "output_type": "execute_result"
    }
   ],
   "source": [
    "local_resources_df.rename(columns={local_resources_df.columns[0]: \"ID\"}, inplace=True)\n",
    "local_resources_df.head()"
   ]
  },
  {
   "cell_type": "code",
   "execution_count": 98,
   "metadata": {},
   "outputs": [
    {
     "data": {
      "text/plain": [
       "Index(['Unnamed: 0', 'Phone ID', 'Phone Number'], dtype='object')"
      ]
     },
     "execution_count": 98,
     "metadata": {},
     "output_type": "execute_result"
    }
   ],
   "source": [
    "phone_df = pd.read_csv('../out/phone_numbers.csv')\n",
    "phone_df.columns"
   ]
  },
  {
   "cell_type": "code",
   "execution_count": 99,
   "metadata": {},
   "outputs": [],
   "source": [
    "phone_df.drop(columns=['Unnamed: 0', 'Phone ID'], inplace=True)"
   ]
  },
  {
   "cell_type": "code",
   "execution_count": 100,
   "metadata": {},
   "outputs": [],
   "source": [
    "local_resources_df['Primary Phone Number Text'] = [phone_df.iloc[int(phone_id)]['Phone Number'] if not math.isnan(phone_id) else None for phone_id in local_resources_df['Primary Phone Number']]\n",
    "local_resources_df['Secondary Phone Number Text'] = [phone_df.iloc[int(phone_id)]['Phone Number'] if not math.isnan(phone_id) else None for phone_id in local_resources_df['Secondary Phone Number']]"
   ]
  },
  {
   "cell_type": "code",
   "execution_count": 101,
   "metadata": {},
   "outputs": [],
   "source": [
    "local_resources_df.drop(columns=['Primary Phone Number', 'Secondary Phone Number'], inplace=True)\n",
    "local_resources_df.rename(columns={'Primary Phone Number Text': 'Primary Phone Number', 'Secondary Phone Number Text': 'Secondary Phone Number'}, inplace=True)"
   ]
  },
  {
   "cell_type": "code",
   "execution_count": 102,
   "metadata": {},
   "outputs": [
    {
     "data": {
      "text/html": [
       "<div>\n",
       "<style scoped>\n",
       "    .dataframe tbody tr th:only-of-type {\n",
       "        vertical-align: middle;\n",
       "    }\n",
       "\n",
       "    .dataframe tbody tr th {\n",
       "        vertical-align: top;\n",
       "    }\n",
       "\n",
       "    .dataframe thead th {\n",
       "        text-align: right;\n",
       "    }\n",
       "</style>\n",
       "<table border=\"1\" class=\"dataframe\">\n",
       "  <thead>\n",
       "    <tr style=\"text-align: right;\">\n",
       "      <th></th>\n",
       "      <th>ID</th>\n",
       "      <th>Contact First Name</th>\n",
       "      <th>Contact Last Name</th>\n",
       "      <th>Company</th>\n",
       "      <th>Emergency Contact Phone Number</th>\n",
       "      <th>Email</th>\n",
       "      <th>Preferred Contact Method</th>\n",
       "      <th>Website</th>\n",
       "      <th>Notes</th>\n",
       "      <th>Address ID</th>\n",
       "      <th>Primary Phone Number</th>\n",
       "      <th>Secondary Phone Number</th>\n",
       "    </tr>\n",
       "  </thead>\n",
       "  <tbody>\n",
       "    <tr>\n",
       "      <th>0</th>\n",
       "      <td>0</td>\n",
       "      <td>NaN</td>\n",
       "      <td>NaN</td>\n",
       "      <td>Ace Security</td>\n",
       "      <td>NaN</td>\n",
       "      <td>NaN</td>\n",
       "      <td>Phone</td>\n",
       "      <td>NaN</td>\n",
       "      <td>NaN</td>\n",
       "      <td>197</td>\n",
       "      <td>6072738840</td>\n",
       "      <td>None</td>\n",
       "    </tr>\n",
       "    <tr>\n",
       "      <th>1</th>\n",
       "      <td>1</td>\n",
       "      <td>NaN</td>\n",
       "      <td>NaN</td>\n",
       "      <td>ACME Pest Control</td>\n",
       "      <td>NaN</td>\n",
       "      <td>NaN</td>\n",
       "      <td>Phone</td>\n",
       "      <td>NaN</td>\n",
       "      <td>NaN</td>\n",
       "      <td>198</td>\n",
       "      <td>607-844-8689</td>\n",
       "      <td>None</td>\n",
       "    </tr>\n",
       "    <tr>\n",
       "      <th>2</th>\n",
       "      <td>2</td>\n",
       "      <td>NaN</td>\n",
       "      <td>NaN</td>\n",
       "      <td>Bailey Construction</td>\n",
       "      <td>NaN</td>\n",
       "      <td>NaN</td>\n",
       "      <td>Phone</td>\n",
       "      <td>www.baileyconstruction.vpweb.com</td>\n",
       "      <td>NaN</td>\n",
       "      <td>199</td>\n",
       "      <td>607-209-4114</td>\n",
       "      <td>None</td>\n",
       "    </tr>\n",
       "    <tr>\n",
       "      <th>3</th>\n",
       "      <td>3</td>\n",
       "      <td>NaN</td>\n",
       "      <td>NaN</td>\n",
       "      <td>Bell's Auto Service</td>\n",
       "      <td>NaN</td>\n",
       "      <td>NaN</td>\n",
       "      <td>Phone</td>\n",
       "      <td>www.bellsauto.com</td>\n",
       "      <td>NaN</td>\n",
       "      <td>200</td>\n",
       "      <td>607-273-9325</td>\n",
       "      <td>None</td>\n",
       "    </tr>\n",
       "    <tr>\n",
       "      <th>4</th>\n",
       "      <td>4</td>\n",
       "      <td>NaN</td>\n",
       "      <td>NaN</td>\n",
       "      <td>Bumblebee Painters</td>\n",
       "      <td>NaN</td>\n",
       "      <td>info@bumblebeepainters.com</td>\n",
       "      <td>Email</td>\n",
       "      <td>www.bumblebeepainters.com</td>\n",
       "      <td>NaN</td>\n",
       "      <td>201</td>\n",
       "      <td>607-273-6521</td>\n",
       "      <td>None</td>\n",
       "    </tr>\n",
       "  </tbody>\n",
       "</table>\n",
       "</div>"
      ],
      "text/plain": [
       "   ID Contact First Name Contact Last Name              Company  \\\n",
       "0   0                NaN               NaN         Ace Security   \n",
       "1   1                NaN               NaN    ACME Pest Control   \n",
       "2   2                NaN               NaN  Bailey Construction   \n",
       "3   3                NaN               NaN  Bell's Auto Service   \n",
       "4   4                NaN               NaN   Bumblebee Painters   \n",
       "\n",
       "   Emergency Contact Phone Number                       Email  \\\n",
       "0                             NaN                         NaN   \n",
       "1                             NaN                         NaN   \n",
       "2                             NaN                         NaN   \n",
       "3                             NaN                         NaN   \n",
       "4                             NaN  info@bumblebeepainters.com   \n",
       "\n",
       "  Preferred Contact Method                           Website Notes  \\\n",
       "0                    Phone                               NaN   NaN   \n",
       "1                    Phone                               NaN   NaN   \n",
       "2                    Phone  www.baileyconstruction.vpweb.com   NaN   \n",
       "3                    Phone                 www.bellsauto.com   NaN   \n",
       "4                    Email         www.bumblebeepainters.com   NaN   \n",
       "\n",
       "   Address ID Primary Phone Number Secondary Phone Number  \n",
       "0         197           6072738840                   None  \n",
       "1         198         607-844-8689                   None  \n",
       "2         199         607-209-4114                   None  \n",
       "3         200         607-273-9325                   None  \n",
       "4         201         607-273-6521                   None  "
      ]
     },
     "execution_count": 102,
     "metadata": {},
     "output_type": "execute_result"
    }
   ],
   "source": [
    "local_resources_df.head()"
   ]
  },
  {
   "cell_type": "code",
   "execution_count": 103,
   "metadata": {},
   "outputs": [],
   "source": [
    "# local_resources_df.to_csv('../out/local_resources.csv')"
   ]
  },
  {
   "cell_type": "markdown",
   "metadata": {},
   "source": [
    "## More reorganizing"
   ]
  },
  {
   "cell_type": "markdown",
   "metadata": {},
   "source": [
    "All the emergency contact phone numbers are `NaN` in this table, so we'll remove the column."
   ]
  },
  {
   "cell_type": "code",
   "execution_count": 104,
   "metadata": {},
   "outputs": [
    {
     "data": {
      "text/plain": [
       "{True}"
      ]
     },
     "execution_count": 104,
     "metadata": {},
     "output_type": "execute_result"
    }
   ],
   "source": [
    "set([math.isnan(value) for value in local_resources_df['Emergency Contact Phone Number'].values])"
   ]
  },
  {
   "cell_type": "code",
   "execution_count": 105,
   "metadata": {},
   "outputs": [],
   "source": [
    "local_resources_df.drop(columns=['Emergency Contact Phone Number'], inplace=True)"
   ]
  },
  {
   "cell_type": "code",
   "execution_count": 106,
   "metadata": {},
   "outputs": [
    {
     "data": {
      "text/plain": [
       "Index(['ID', 'Contact First Name', 'Contact Last Name', 'Company', 'Email',\n",
       "       'Preferred Contact Method', 'Website', 'Notes', 'Address ID',\n",
       "       'Primary Phone Number', 'Secondary Phone Number'],\n",
       "      dtype='object')"
      ]
     },
     "execution_count": 106,
     "metadata": {},
     "output_type": "execute_result"
    }
   ],
   "source": [
    "local_resources_df.columns"
   ]
  },
  {
   "cell_type": "markdown",
   "metadata": {},
   "source": [
    "Let's drop the \"Notes\" column for now and then fill them in later when creating reviews."
   ]
  },
  {
   "cell_type": "code",
   "execution_count": 107,
   "metadata": {},
   "outputs": [],
   "source": [
    "local_resources_df.drop(columns=['Notes'], inplace=True)"
   ]
  },
  {
   "cell_type": "code",
   "execution_count": 108,
   "metadata": {},
   "outputs": [],
   "source": [
    "local_resources_df.rename(columns={'ID': 'id', 'Contact First Name': 'contact_first_name', 'Contact Last Name': 'contact_last_name', 'Company': 'company_name', \\\n",
    "                                   'Email': 'email_address', 'Preferred Contact Method': 'preferred_contact_method', \\\n",
    "                                   'Website': 'website', 'Address ID': 'address_id', 'Primary Phone Number': 'primary_phone_number',\\\n",
    "                                   'Secondary Phone Number': 'secondary_phone_number'}, inplace=True)"
   ]
  },
  {
   "cell_type": "code",
   "execution_count": 109,
   "metadata": {},
   "outputs": [
    {
     "name": "stdout",
     "output_type": "stream",
     "text": [
      "{'id': 0, 'contact_first_name': nan, 'contact_last_name': nan, 'company_name': 'Ace Security', 'email_address': nan, 'preferred_contact_method': 'Phone', 'website': nan, 'address_id': 197, 'primary_phone_number': '6072738840', 'secondary_phone_number': None}\n"
     ]
    }
   ],
   "source": [
    "for row in local_resources_df.iterrows():\n",
    "    print(dict(row[1]))\n",
    "    break"
   ]
  },
  {
   "cell_type": "code",
   "execution_count": 110,
   "metadata": {},
   "outputs": [],
   "source": [
    "local_resources_df.to_csv('../out/local_resources.csv', index=False)"
   ]
  }
 ],
 "metadata": {
  "kernelspec": {
   "display_name": "Python 3",
   "language": "python",
   "name": "python3"
  },
  "language_info": {
   "codemirror_mode": {
    "name": "ipython",
    "version": 3
   },
   "file_extension": ".py",
   "mimetype": "text/x-python",
   "name": "python",
   "nbconvert_exporter": "python",
   "pygments_lexer": "ipython3",
   "version": "3.8.3"
  }
 },
 "nbformat": 4,
 "nbformat_minor": 4
}
