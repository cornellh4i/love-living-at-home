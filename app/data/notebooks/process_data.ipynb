{
 "cells": [
  {
   "cell_type": "code",
   "execution_count": 1,
   "metadata": {},
   "outputs": [],
   "source": [
    "import pandas as pd\n",
    "\n",
    "ROOT_DATA_DIR = '../in/club_express_exports'\n",
    "OUT_DATA_DIR = '../out/'"
   ]
  },
  {
   "cell_type": "markdown",
   "metadata": {},
   "source": [
    "## Read in data\n",
    "Read in the services data and remove unnecessary columns (Visible? and Notes)"
   ]
  },
  {
   "cell_type": "code",
   "execution_count": 2,
   "metadata": {},
   "outputs": [
    {
     "data": {
      "text/html": [
       "<div>\n",
       "<style scoped>\n",
       "    .dataframe tbody tr th:only-of-type {\n",
       "        vertical-align: middle;\n",
       "    }\n",
       "\n",
       "    .dataframe tbody tr th {\n",
       "        vertical-align: top;\n",
       "    }\n",
       "\n",
       "    .dataframe thead th {\n",
       "        text-align: right;\n",
       "    }\n",
       "</style>\n",
       "<table border=\"1\" class=\"dataframe\">\n",
       "  <thead>\n",
       "    <tr style=\"text-align: right;\">\n",
       "      <th></th>\n",
       "      <th>Service</th>\n",
       "      <th>Service Category</th>\n",
       "      <th>Transportation?</th>\n",
       "    </tr>\n",
       "  </thead>\n",
       "  <tbody>\n",
       "    <tr>\n",
       "      <th>0</th>\n",
       "      <td>Alarms/Locks/Security</td>\n",
       "      <td>Professional Home/Garden Servi</td>\n",
       "      <td>No</td>\n",
       "    </tr>\n",
       "    <tr>\n",
       "      <th>2</th>\n",
       "      <td>Appliance Repair</td>\n",
       "      <td>Professional Home/Garden Servi</td>\n",
       "      <td>No</td>\n",
       "    </tr>\n",
       "    <tr>\n",
       "      <th>3</th>\n",
       "      <td>Auto Repair</td>\n",
       "      <td>Professional In-Home Support</td>\n",
       "      <td>No</td>\n",
       "    </tr>\n",
       "    <tr>\n",
       "      <th>4</th>\n",
       "      <td>Bill Paying / Paperwork</td>\n",
       "      <td>Volunteer In-Home Support</td>\n",
       "      <td>No</td>\n",
       "    </tr>\n",
       "    <tr>\n",
       "      <th>5</th>\n",
       "      <td>Board Meetings</td>\n",
       "      <td>Village Admin</td>\n",
       "      <td>No</td>\n",
       "    </tr>\n",
       "  </tbody>\n",
       "</table>\n",
       "</div>"
      ],
      "text/plain": [
       "                   Service                Service Category Transportation?\n",
       "0    Alarms/Locks/Security  Professional Home/Garden Servi              No\n",
       "2         Appliance Repair  Professional Home/Garden Servi              No\n",
       "3              Auto Repair    Professional In-Home Support              No\n",
       "4  Bill Paying / Paperwork       Volunteer In-Home Support              No\n",
       "5           Board Meetings                   Village Admin              No"
      ]
     },
     "execution_count": 2,
     "metadata": {},
     "output_type": "execute_result"
    }
   ],
   "source": [
    "service_df = pd.read_csv(f\"{ROOT_DATA_DIR}/service_data.csv\")\n",
    "visible_services_df = service_df.loc[service_df['Visible?']=='Yes']\n",
    "trimmed_visible_services_df = visible_services_df.drop(['Visible?', 'Notes'], axis=1)\n",
    "trimmed_visible_services_df.head()"
   ]
  },
  {
   "cell_type": "markdown",
   "metadata": {},
   "source": [
    "Next, we need the request type that each category belongs to. This is relevant because, when creating a type of request (i.e., Transportation Request), the service categories are filtered to only display the categories belonging to the request type."
   ]
  },
  {
   "cell_type": "code",
   "execution_count": 3,
   "metadata": {},
   "outputs": [
    {
     "data": {
      "text/html": [
       "<div>\n",
       "<style scoped>\n",
       "    .dataframe tbody tr th:only-of-type {\n",
       "        vertical-align: middle;\n",
       "    }\n",
       "\n",
       "    .dataframe tbody tr th {\n",
       "        vertical-align: top;\n",
       "    }\n",
       "\n",
       "    .dataframe thead th {\n",
       "        text-align: right;\n",
       "    }\n",
       "</style>\n",
       "<table border=\"1\" class=\"dataframe\">\n",
       "  <thead>\n",
       "    <tr style=\"text-align: right;\">\n",
       "      <th></th>\n",
       "      <th>Service</th>\n",
       "      <th>Service Category</th>\n",
       "      <th>Request Type</th>\n",
       "    </tr>\n",
       "  </thead>\n",
       "  <tbody>\n",
       "    <tr>\n",
       "      <th>0</th>\n",
       "      <td>IT Consultant Office</td>\n",
       "      <td>Village Admin</td>\n",
       "      <td>Office</td>\n",
       "    </tr>\n",
       "    <tr>\n",
       "      <th>2</th>\n",
       "      <td>Coronavirus Support Phone Call</td>\n",
       "      <td>Volunteer In-Home Support</td>\n",
       "      <td>Member's Home</td>\n",
       "    </tr>\n",
       "    <tr>\n",
       "      <th>6</th>\n",
       "      <td>Vol Driver Local Medical Appt</td>\n",
       "      <td>Transportation</td>\n",
       "      <td>Transportation</td>\n",
       "    </tr>\n",
       "    <tr>\n",
       "      <th>10</th>\n",
       "      <td>Office Work - Misc.</td>\n",
       "      <td>Village Admin</td>\n",
       "      <td>Office</td>\n",
       "    </tr>\n",
       "    <tr>\n",
       "      <th>18</th>\n",
       "      <td>Grocery Shopping (Covid-19)</td>\n",
       "      <td>Coronavirus Community Support</td>\n",
       "      <td>Transportation</td>\n",
       "    </tr>\n",
       "    <tr>\n",
       "      <th>...</th>\n",
       "      <td>...</td>\n",
       "      <td>...</td>\n",
       "      <td>...</td>\n",
       "    </tr>\n",
       "    <tr>\n",
       "      <th>6298</th>\n",
       "      <td>Answering Phones</td>\n",
       "      <td>Village Admin</td>\n",
       "      <td>Office</td>\n",
       "    </tr>\n",
       "    <tr>\n",
       "      <th>6340</th>\n",
       "      <td>FB/SocMedia Admin</td>\n",
       "      <td>Professional In-Home Support</td>\n",
       "      <td>Office</td>\n",
       "    </tr>\n",
       "    <tr>\n",
       "      <th>6351</th>\n",
       "      <td>Snow Removal</td>\n",
       "      <td>Professional Home/Garden Servi</td>\n",
       "      <td>Contractor Referral</td>\n",
       "    </tr>\n",
       "    <tr>\n",
       "      <th>6366</th>\n",
       "      <td>Dog Trainer/Walker - Professio</td>\n",
       "      <td>Professional In-Home Support</td>\n",
       "      <td>Contractor Referral</td>\n",
       "    </tr>\n",
       "    <tr>\n",
       "      <th>6377</th>\n",
       "      <td>Long Dist. - Med. Professional</td>\n",
       "      <td>Transportation</td>\n",
       "      <td>Transportation</td>\n",
       "    </tr>\n",
       "  </tbody>\n",
       "</table>\n",
       "<p>63 rows × 3 columns</p>\n",
       "</div>"
      ],
      "text/plain": [
       "                             Service                Service Category  \\\n",
       "0               IT Consultant Office                   Village Admin   \n",
       "2     Coronavirus Support Phone Call       Volunteer In-Home Support   \n",
       "6     Vol Driver Local Medical Appt                   Transportation   \n",
       "10               Office Work - Misc.                   Village Admin   \n",
       "18       Grocery Shopping (Covid-19)   Coronavirus Community Support   \n",
       "...                              ...                             ...   \n",
       "6298                Answering Phones                   Village Admin   \n",
       "6340               FB/SocMedia Admin    Professional In-Home Support   \n",
       "6351                    Snow Removal  Professional Home/Garden Servi   \n",
       "6366  Dog Trainer/Walker - Professio    Professional In-Home Support   \n",
       "6377  Long Dist. - Med. Professional                  Transportation   \n",
       "\n",
       "             Request Type  \n",
       "0                  Office  \n",
       "2           Member's Home  \n",
       "6          Transportation  \n",
       "10                 Office  \n",
       "18         Transportation  \n",
       "...                   ...  \n",
       "6298               Office  \n",
       "6340               Office  \n",
       "6351  Contractor Referral  \n",
       "6366  Contractor Referral  \n",
       "6377       Transportation  \n",
       "\n",
       "[63 rows x 3 columns]"
      ]
     },
     "execution_count": 3,
     "metadata": {},
     "output_type": "execute_result"
    }
   ],
   "source": [
    "completed_and_requested_services_df = pd.read_csv(f\"{ROOT_DATA_DIR}/service_provided_service_data.csv\")\n",
    "trimmed_service_info_df = completed_and_requested_services_df[['Service', 'Service Category', 'Request Type']].drop_duplicates()\n",
    "trimmed_service_info_df"
   ]
  },
  {
   "cell_type": "markdown",
   "metadata": {},
   "source": [
    "## Parse data for H4I Services Dataframe"
   ]
  },
  {
   "cell_type": "code",
   "execution_count": 4,
   "metadata": {},
   "outputs": [],
   "source": [
    "# This H4I dataframe will hold all our relevant information.\n",
    "h4i_service_info_df = pd.DataFrame(columns=['Service', 'Service Category', 'Request Type'])\n",
    "\n",
    "# Accumulate columns in these lists\n",
    "services = []\n",
    "service_categories = []\n",
    "request_types = []\n",
    "\n",
    "# Iterate through all current services and insert relevant information into the lists for H4I dataframe columns\n",
    "for row in trimmed_visible_services_df[['Service', 'Service Category']].iterrows():\n",
    "    # Get Service, Service Category, and Service Category ID\n",
    "    service, service_category = row[1].values\n",
    "    # Get Request Type\n",
    "    request_type_values = trimmed_service_info_df[trimmed_service_info_df['Service'] == service]['Request Type'].values\n",
    "    num_request_type_values = len(request_type_values)\n",
    "    try:\n",
    "        assert(num_request_type_values <= 1) # Check that there's either 0 or 1 request types associated with this service\n",
    "    except AssertionError: \n",
    "        if \"Contractor Referral\" in request_type_values:\n",
    "            list(request_type_values).remove(\"Contractor Referral\")\n",
    "            num_request_type_values-=1\n",
    "            if num_request_type_values == 1: # after removing 'Contractor Referral'\n",
    "                break\n",
    "        print(\"ASSERTION ERROR\")\n",
    "        print(request_type_values)\n",
    "    request_type = None\n",
    "    if len(request_type_values) == 1:\n",
    "        request_type = request_type_values[0]\n",
    "        \n",
    "    # Append to lists\n",
    "    services.append(service)\n",
    "    service_categories.append(service_category)\n",
    "    request_types.append(request_type)"
   ]
  },
  {
   "cell_type": "markdown",
   "metadata": {},
   "source": [
    "Construct our dataframe with **Service Category** and **Request Type** for every **Service**."
   ]
  },
  {
   "cell_type": "code",
   "execution_count": 5,
   "metadata": {},
   "outputs": [],
   "source": [
    "h4i_service_info_df['Service'] = services\n",
    "h4i_service_info_df['Service Category'] = service_categories\n",
    "h4i_service_info_df['Request Type'] = request_types"
   ]
  },
  {
   "cell_type": "code",
   "execution_count": null,
   "metadata": {},
   "outputs": [],
   "source": [
    "h4i_service_info_df.head()"
   ]
  },
  {
   "cell_type": "markdown",
   "metadata": {},
   "source": [
    "## The request type needs to be filled in for some service categories/services."
   ]
  },
  {
   "cell_type": "code",
   "execution_count": 6,
   "metadata": {},
   "outputs": [
    {
     "data": {
      "text/html": [
       "<div>\n",
       "<style scoped>\n",
       "    .dataframe tbody tr th:only-of-type {\n",
       "        vertical-align: middle;\n",
       "    }\n",
       "\n",
       "    .dataframe tbody tr th {\n",
       "        vertical-align: top;\n",
       "    }\n",
       "\n",
       "    .dataframe thead th {\n",
       "        text-align: right;\n",
       "    }\n",
       "</style>\n",
       "<table border=\"1\" class=\"dataframe\">\n",
       "  <thead>\n",
       "    <tr style=\"text-align: right;\">\n",
       "      <th></th>\n",
       "      <th>Service</th>\n",
       "      <th>Service Category</th>\n",
       "      <th>Request Type</th>\n",
       "    </tr>\n",
       "  </thead>\n",
       "  <tbody>\n",
       "    <tr>\n",
       "      <th>0</th>\n",
       "      <td>Alarms/Locks/Security</td>\n",
       "      <td>Professional Home/Garden Servi</td>\n",
       "      <td>None</td>\n",
       "    </tr>\n",
       "    <tr>\n",
       "      <th>1</th>\n",
       "      <td>Appliance Repair</td>\n",
       "      <td>Professional Home/Garden Servi</td>\n",
       "      <td>None</td>\n",
       "    </tr>\n",
       "    <tr>\n",
       "      <th>2</th>\n",
       "      <td>Auto Repair</td>\n",
       "      <td>Professional In-Home Support</td>\n",
       "      <td>None</td>\n",
       "    </tr>\n",
       "    <tr>\n",
       "      <th>5</th>\n",
       "      <td>Cell Phone Help</td>\n",
       "      <td>Technical Support</td>\n",
       "      <td>None</td>\n",
       "    </tr>\n",
       "    <tr>\n",
       "      <th>6</th>\n",
       "      <td>Chimneys-Repr.&amp;Clean.</td>\n",
       "      <td>Professional Home/Garden Servi</td>\n",
       "      <td>None</td>\n",
       "    </tr>\n",
       "    <tr>\n",
       "      <th>7</th>\n",
       "      <td>Cloud Storage</td>\n",
       "      <td>Technical Support</td>\n",
       "      <td>None</td>\n",
       "    </tr>\n",
       "    <tr>\n",
       "      <th>18</th>\n",
       "      <td>Email</td>\n",
       "      <td>Technical Support</td>\n",
       "      <td>None</td>\n",
       "    </tr>\n",
       "    <tr>\n",
       "      <th>22</th>\n",
       "      <td>Flooring/Carpets</td>\n",
       "      <td>Professional Home/Garden Servi</td>\n",
       "      <td>None</td>\n",
       "    </tr>\n",
       "    <tr>\n",
       "      <th>24</th>\n",
       "      <td>Garden/Landscape-Prof.</td>\n",
       "      <td>Professional Home/Garden Servi</td>\n",
       "      <td>None</td>\n",
       "    </tr>\n",
       "    <tr>\n",
       "      <th>28</th>\n",
       "      <td>hack4impact test service</td>\n",
       "      <td>Transportation</td>\n",
       "      <td>None</td>\n",
       "    </tr>\n",
       "  </tbody>\n",
       "</table>\n",
       "</div>"
      ],
      "text/plain": [
       "                     Service                Service Category Request Type\n",
       "0      Alarms/Locks/Security  Professional Home/Garden Servi         None\n",
       "1           Appliance Repair  Professional Home/Garden Servi         None\n",
       "2                Auto Repair    Professional In-Home Support         None\n",
       "5            Cell Phone Help               Technical Support         None\n",
       "6      Chimneys-Repr.&Clean.  Professional Home/Garden Servi         None\n",
       "7              Cloud Storage               Technical Support         None\n",
       "18                     Email               Technical Support         None\n",
       "22          Flooring/Carpets  Professional Home/Garden Servi         None\n",
       "24   Garden/Landscape-Prof.   Professional Home/Garden Servi         None\n",
       "28  hack4impact test service                  Transportation         None"
      ]
     },
     "execution_count": 6,
     "metadata": {},
     "output_type": "execute_result"
    }
   ],
   "source": [
    "h4i_service_info_df.loc[h4i_service_info_df['Request Type'].isnull()]"
   ]
  },
  {
   "cell_type": "markdown",
   "metadata": {},
   "source": [
    "Fix these rows with \"None\" as Request Type."
   ]
  },
  {
   "cell_type": "code",
   "execution_count": 7,
   "metadata": {},
   "outputs": [],
   "source": [
    "h4i_service_info_df.loc[[0, 1, 2, 5, 6, 7, 18, 22, 24], 'Request Type']= \"Member's Home\""
   ]
  },
  {
   "cell_type": "markdown",
   "metadata": {},
   "source": [
    "Drop the \"hack4impact test service\" we created in the system."
   ]
  },
  {
   "cell_type": "code",
   "execution_count": 8,
   "metadata": {},
   "outputs": [],
   "source": [
    "h4i_service_info_df.drop(28, inplace=True); # drop 'hack4impact test service'"
   ]
  },
  {
   "cell_type": "markdown",
   "metadata": {},
   "source": [
    "Check that there are no more \"None\" values in Request Type."
   ]
  },
  {
   "cell_type": "code",
   "execution_count": 9,
   "metadata": {},
   "outputs": [
    {
     "data": {
      "text/html": [
       "<div>\n",
       "<style scoped>\n",
       "    .dataframe tbody tr th:only-of-type {\n",
       "        vertical-align: middle;\n",
       "    }\n",
       "\n",
       "    .dataframe tbody tr th {\n",
       "        vertical-align: top;\n",
       "    }\n",
       "\n",
       "    .dataframe thead th {\n",
       "        text-align: right;\n",
       "    }\n",
       "</style>\n",
       "<table border=\"1\" class=\"dataframe\">\n",
       "  <thead>\n",
       "    <tr style=\"text-align: right;\">\n",
       "      <th></th>\n",
       "      <th>Service</th>\n",
       "      <th>Service Category</th>\n",
       "      <th>Request Type</th>\n",
       "    </tr>\n",
       "  </thead>\n",
       "  <tbody>\n",
       "  </tbody>\n",
       "</table>\n",
       "</div>"
      ],
      "text/plain": [
       "Empty DataFrame\n",
       "Columns: [Service, Service Category, Request Type]\n",
       "Index: []"
      ]
     },
     "execution_count": 9,
     "metadata": {},
     "output_type": "execute_result"
    }
   ],
   "source": [
    "h4i_service_info_df.loc[h4i_service_info_df['Request Type'].isnull()]"
   ]
  },
  {
   "cell_type": "markdown",
   "metadata": {},
   "source": [
    "Remove \"Contractor Referral\" Requests"
   ]
  },
  {
   "cell_type": "code",
   "execution_count": 10,
   "metadata": {},
   "outputs": [],
   "source": [
    "h4i_service_info_df = h4i_service_info_df[h4i_service_info_df['Request Type'] != 'Contractor Referral']\n",
    "h4i_service_info_df.head()\n",
    "h4i_service_info_df.to_csv(f'{OUT_DATA_DIR}/all_service_info.csv', index=False)"
   ]
  },
  {
   "cell_type": "markdown",
   "metadata": {},
   "source": [
    "## Now, let's gather Service Category -> Request mappings, to be used when we create the categories dataframe."
   ]
  },
  {
   "cell_type": "code",
   "execution_count": 29,
   "metadata": {},
   "outputs": [
    {
     "data": {
      "text/plain": [
       "'Office'"
      ]
     },
     "execution_count": 29,
     "metadata": {},
     "output_type": "execute_result"
    }
   ],
   "source": [
    "category_and_request_type_info = h4i_service_info_df[['Service Category', 'Request Type']].drop_duplicates()\n",
    "category_and_request_type_info.set_index('Service Category', inplace=True)\n",
    "category_and_request_type_info.loc['Village Admin']['Request Type']\n",
    "# category_and_request_type_info['Village Admin']"
   ]
  },
  {
   "cell_type": "markdown",
   "metadata": {},
   "source": [
    "## Create tables of services, service categories, and request types with their IDs"
   ]
  },
  {
   "cell_type": "code",
   "execution_count": 42,
   "metadata": {},
   "outputs": [],
   "source": [
    "service_categories_set = list(set(h4i_service_info_df['Service Category']))\n",
    "services_set = list(set(h4i_service_info_df['Service']))\n",
    "request_types_set = list(set(h4i_service_info_df['Request Type']))\n",
    "\n",
    "h4i_service_categories_df = pd.DataFrame()\n",
    "h4i_services_df = pd.DataFrame()\n",
    "h4i_request_types_df = pd.DataFrame()"
   ]
  },
  {
   "cell_type": "code",
   "execution_count": 45,
   "metadata": {},
   "outputs": [],
   "source": [
    "h4i_request_types_df['Name'] = request_types_set\n",
    "h4i_request_types_df.head()\n",
    "h4i_request_types_df.to_csv(f'{OUT_DATA_DIR}/request_types.csv', index_label='id')"
   ]
  },
  {
   "cell_type": "code",
   "execution_count": 47,
   "metadata": {},
   "outputs": [
    {
     "data": {
      "text/html": [
       "<div>\n",
       "<style scoped>\n",
       "    .dataframe tbody tr th:only-of-type {\n",
       "        vertical-align: middle;\n",
       "    }\n",
       "\n",
       "    .dataframe tbody tr th {\n",
       "        vertical-align: top;\n",
       "    }\n",
       "\n",
       "    .dataframe thead th {\n",
       "        text-align: right;\n",
       "    }\n",
       "</style>\n",
       "<table border=\"1\" class=\"dataframe\">\n",
       "  <thead>\n",
       "    <tr style=\"text-align: right;\">\n",
       "      <th></th>\n",
       "      <th>Name</th>\n",
       "    </tr>\n",
       "  </thead>\n",
       "  <tbody>\n",
       "    <tr>\n",
       "      <th>0</th>\n",
       "      <td>Office</td>\n",
       "    </tr>\n",
       "    <tr>\n",
       "      <th>1</th>\n",
       "      <td>Member's Home</td>\n",
       "    </tr>\n",
       "    <tr>\n",
       "      <th>2</th>\n",
       "      <td>Transportation</td>\n",
       "    </tr>\n",
       "  </tbody>\n",
       "</table>\n",
       "</div>"
      ],
      "text/plain": [
       "             Name\n",
       "0          Office\n",
       "1   Member's Home\n",
       "2  Transportation"
      ]
     },
     "execution_count": 47,
     "metadata": {},
     "output_type": "execute_result"
    }
   ],
   "source": [
    "h4i_request_types_df"
   ]
  },
  {
   "cell_type": "code",
   "execution_count": 46,
   "metadata": {},
   "outputs": [],
   "source": [
    "h4i_services_df['Name'] = services_set\n",
    "h4i_services_df.head()\n",
    "h4i_services_df.to_csv(f'{OUT_DATA_DIR}/services.csv', index_label='id')"
   ]
  },
  {
   "cell_type": "code",
   "execution_count": 54,
   "metadata": {},
   "outputs": [],
   "source": [
    "h4i_service_categories_df['Name'] = service_categories_set\n",
    "h4i_service_categories_df['Request Type'] = [category_and_request_type_info.loc[category]['Request Type'] for \n",
    "                                             category in h4i_service_categories_df['Name']]\n",
    "h4i_service_categories_df['Request Type ID'] = [h4i_request_types_df[h4i_request_types_df['Name'] == request_type].index[0] for \n",
    "                                             request_type in h4i_service_categories_df['Request Type']]\n",
    "h4i_service_categories_df.head()\n",
    "h4i_service_categories_df.to_csv(f'{OUT_DATA_DIR}/service_categories.csv', index_label='id')"
   ]
  }
 ],
 "metadata": {
  "kernelspec": {
   "display_name": "Python 3",
   "language": "python",
   "name": "python3"
  },
  "language_info": {
   "codemirror_mode": {
    "name": "ipython",
    "version": 3
   },
   "file_extension": ".py",
   "mimetype": "text/x-python",
   "name": "python",
   "nbconvert_exporter": "python",
   "pygments_lexer": "ipython3",
   "version": "3.8.3"
  }
 },
 "nbformat": 4,
 "nbformat_minor": 4
}
