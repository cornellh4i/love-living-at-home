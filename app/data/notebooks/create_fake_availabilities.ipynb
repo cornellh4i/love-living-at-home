{
 "cells": [
  {
   "cell_type": "code",
   "execution_count": 1,
   "metadata": {},
   "outputs": [],
   "source": [
    "import pandas as pd"
   ]
  },
  {
   "cell_type": "code",
   "execution_count": 2,
   "metadata": {},
   "outputs": [],
   "source": [
    "availabilities_df = pd.DataFrame()"
   ]
  },
  {
   "cell_type": "code",
   "execution_count": 3,
   "metadata": {},
   "outputs": [],
   "source": [
    "data = []\n",
    "\n",
    "volunteer_1_times=[('Mon', 13, 15, 1), ('Mon', 17, 18, 1), ('Mon', 7, 8, 2), ('Tues', 12, 19, 1)]\n",
    "for (day, start_hour, end_hour, availability_status) in volunteer_1_times:\n",
    "    data.append({\n",
    "        'volunteer_id': 1,\n",
    "        'day_of_week': day,\n",
    "        'start_hour': start_hour,\n",
    "        'end_hour': end_hour,\n",
    "        'availability_status_id': availability_status\n",
    "    })\n",
    "\n",
    "volunteer_2_times=[('Wed', 9, 10, 1), ('Wed', 21, 22, 2), ('Fri', 12, 17, 1)]\n",
    "for (day, start_hour, end_hour, availability_status) in volunteer_1_times:\n",
    "    data.append({\n",
    "        'volunteer_id': 2,\n",
    "        'day_of_week': day,\n",
    "        'start_hour': start_hour,\n",
    "        'end_hour': end_hour,\n",
    "        'availability_status_id': availability_status\n",
    "    })"
   ]
  },
  {
   "cell_type": "code",
   "execution_count": 4,
   "metadata": {},
   "outputs": [],
   "source": [
    "field_names = list(data[0].keys())"
   ]
  },
  {
   "cell_type": "code",
   "execution_count": 5,
   "metadata": {},
   "outputs": [],
   "source": [
    "for field in field_names:\n",
    "    availabilities_df[field] = [d[field] for d in data]"
   ]
  },
  {
   "cell_type": "code",
   "execution_count": 6,
   "metadata": {},
   "outputs": [],
   "source": [
    "availabilities_df.set_index(availabilities_df.index+1, inplace=True)"
   ]
  },
  {
   "cell_type": "code",
   "execution_count": 7,
   "metadata": {},
   "outputs": [],
   "source": [
    "availabilities_df.to_csv('../out/fake_volunteer_availabilities.csv', index=True, index_label='id')"
   ]
  }
 ],
 "metadata": {
  "kernelspec": {
   "display_name": "Python 3",
   "language": "python",
   "name": "python3"
  },
  "language_info": {
   "codemirror_mode": {
    "name": "ipython",
    "version": 3
   },
   "file_extension": ".py",
   "mimetype": "text/x-python",
   "name": "python",
   "nbconvert_exporter": "python",
   "pygments_lexer": "ipython3",
   "version": "3.8.3"
  }
 },
 "nbformat": 4,
 "nbformat_minor": 4
}
